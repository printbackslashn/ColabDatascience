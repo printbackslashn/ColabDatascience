{
  "nbformat": 4,
  "nbformat_minor": 0,
  "metadata": {
    "colab": {
      "name": "LearningDatascience.ipynb",
      "provenance": [],
      "collapsed_sections": [],
      "authorship_tag": "ABX9TyM8S9rYw0STcq0sB3g0GC4K",
      "include_colab_link": true
    },
    "kernelspec": {
      "name": "python3",
      "display_name": "Python 3"
    },
    "language_info": {
      "name": "python"
    }
  },
  "cells": [
    {
      "cell_type": "markdown",
      "metadata": {
        "id": "view-in-github",
        "colab_type": "text"
      },
      "source": [
        "<a href=\"https://colab.research.google.com/github/printbackslashn/ColabDatascience/blob/main/LearningDatascience.ipynb\" target=\"_parent\"><img src=\"https://colab.research.google.com/assets/colab-badge.svg\" alt=\"Open In Colab\"/></a>"
      ]
    },
    {
      "cell_type": "code",
      "metadata": {
        "id": "PQQSP63EeSL0"
      },
      "source": [
        "import numpy as np\n"
      ],
      "execution_count": 4,
      "outputs": []
    },
    {
      "cell_type": "markdown",
      "metadata": {
        "id": "VQNWfbg9eXms"
      },
      "source": [
        "About numpy\n",
        "\n",
        "Numerical python\n"
      ]
    },
    {
      "cell_type": "markdown",
      "metadata": {
        "id": "ByVUVxVDfL04"
      },
      "source": [
        "Arrays in numpys,\n",
        "\n",
        "\n",
        "\n",
        "1. np.array\n",
        "> Standard array\n",
        "\n",
        "2. np.ones\n",
        "> All array values are set to 1, and a certain type.\n",
        "> Select y axis than x axis\n",
        "3. np.full\n",
        ">\n",
        "4. np.arange\n",
        "5. np.linspace\n",
        "6. np.random.rand\n",
        "7. np.empty\n"
      ]
    },
    {
      "cell_type": "code",
      "metadata": {
        "colab": {
          "base_uri": "https://localhost:8080/"
        },
        "id": "fP6xct2lfOj4",
        "outputId": "86b8bb4a-3666-4586-998b-b05c199c51b2"
      },
      "source": [
        "numpyArray = np.array([1, 2, 3])\n",
        "print(type(numpyArray))\n",
        "print(f\"The array is {numpyArray}\")\n",
        "print(f\"0 in the array is {numpyArray[0]}\")\n",
        "print(f\"1 in the array is {numpyArray[1]}\")\n",
        "print(f\"2 in the array is {numpyArray[2]}\")\n",
        "print(f\"-1 in the array is {numpyArray[-1]}\")"
      ],
      "execution_count": 11,
      "outputs": [
        {
          "output_type": "stream",
          "name": "stdout",
          "text": [
            "<class 'numpy.ndarray'>\n",
            "The array is [1 2 3]\n",
            "0 in the array is 1\n",
            "1 in the array is 2\n",
            "2 in the array is 3\n",
            "-1 in the array is 3\n"
          ]
        }
      ]
    },
    {
      "cell_type": "code",
      "metadata": {
        "colab": {
          "base_uri": "https://localhost:8080/"
        },
        "id": "lm-PMTOKh7Pc",
        "outputId": "e60a6352-f74c-4fd9-f8eb-ffe65d07a021"
      },
      "source": [
        "numpyOnes = np.ones( (3,4),\n",
        "                    dtype=np.int16 )\n",
        "print(numpyOnes)\n"
      ],
      "execution_count": 12,
      "outputs": [
        {
          "output_type": "stream",
          "name": "stdout",
          "text": [
            "[[1 1 1 1]\n",
            " [1 1 1 1]\n",
            " [1 1 1 1]]\n"
          ]
        }
      ]
    }
  ]
}