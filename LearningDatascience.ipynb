{
  "nbformat": 4,
  "nbformat_minor": 0,
  "metadata": {
    "colab": {
      "name": "LearningDatascience.ipynb",
      "provenance": [],
      "collapsed_sections": [],
      "authorship_tag": "ABX9TyPV7g7b3ZNYiOc9DXis+ksv",
      "include_colab_link": true
    },
    "kernelspec": {
      "name": "python3",
      "display_name": "Python 3"
    },
    "language_info": {
      "name": "python"
    }
  },
  "cells": [
    {
      "cell_type": "markdown",
      "metadata": {
        "id": "view-in-github",
        "colab_type": "text"
      },
      "source": [
        "<a href=\"https://colab.research.google.com/github/printbackslashn/ColabDatascience/blob/main/LearningDatascience.ipynb\" target=\"_parent\"><img src=\"https://colab.research.google.com/assets/colab-badge.svg\" alt=\"Open In Colab\"/></a>"
      ]
    },
    {
      "cell_type": "code",
      "metadata": {
        "id": "PQQSP63EeSL0"
      },
      "source": [
        "import numpy as np\n"
      ],
      "execution_count": 3,
      "outputs": []
    },
    {
      "cell_type": "markdown",
      "metadata": {
        "id": "VQNWfbg9eXms"
      },
      "source": [
        "About numpy\n",
        "\n",
        "Numerical python\n"
      ]
    },
    {
      "cell_type": "markdown",
      "metadata": {
        "id": "ByVUVxVDfL04"
      },
      "source": [
        "Arrays in numpys,\n",
        "\n",
        "\n",
        "\n",
        "1. np.array\n",
        "> Standard array\n",
        "\n",
        "2. np.ones\n",
        "> All array values are set to 1, and a certain type.\n",
        "> Select y axis than x axis\n",
        "3. np.full\n",
        ">\n",
        "4. np.arange\n",
        "5. np.linspace\n",
        "6. np.random.rand\n",
        "7. np.empty\n"
      ]
    },
    {
      "cell_type": "code",
      "metadata": {
        "colab": {
          "base_uri": "https://localhost:8080/"
        },
        "id": "fP6xct2lfOj4",
        "outputId": "86b8bb4a-3666-4586-998b-b05c199c51b2"
      },
      "source": [
        "numpyArray = np.array([1, 2, 3])\n",
        "print(type(numpyArray))\n",
        "print(f\"The array is {numpyArray}\")\n",
        "print(f\"0 in the array is {numpyArray[0]}\")\n",
        "print(f\"1 in the array is {numpyArray[1]}\")\n",
        "print(f\"2 in the array is {numpyArray[2]}\")\n",
        "print(f\"-1 in the array is {numpyArray[-1]}\")"
      ],
      "execution_count": null,
      "outputs": [
        {
          "output_type": "stream",
          "name": "stdout",
          "text": [
            "<class 'numpy.ndarray'>\n",
            "The array is [1 2 3]\n",
            "0 in the array is 1\n",
            "1 in the array is 2\n",
            "2 in the array is 3\n",
            "-1 in the array is 3\n"
          ]
        }
      ]
    },
    {
      "cell_type": "code",
      "metadata": {
        "colab": {
          "base_uri": "https://localhost:8080/"
        },
        "id": "lm-PMTOKh7Pc",
        "outputId": "8858e054-db49-416a-f88b-d0e7ce0fb62f"
      },
      "source": [
        "numpyOnes = np.ones( (3,4),\n",
        "                    dtype=np.int16 )\n",
        "print(type(numpyOnes))\n",
        "print(numpyOnes)\n",
        "numpyOnes[0,2] = 7\n",
        "print(numpyOnes)\n",
        "print(numpyOnes[0,2])\n"
      ],
      "execution_count": 10,
      "outputs": [
        {
          "output_type": "stream",
          "name": "stdout",
          "text": [
            "<class 'numpy.ndarray'>\n",
            "[[1 1 1 1]\n",
            " [1 1 1 1]\n",
            " [1 1 1 1]]\n",
            "[[1 1 7 1]\n",
            " [1 1 1 1]\n",
            " [1 1 1 1]]\n",
            "7\n"
          ]
        }
      ]
    },
    {
      "cell_type": "code",
      "metadata": {
        "colab": {
          "base_uri": "https://localhost:8080/"
        },
        "id": "wIOUXnz_mFx0",
        "outputId": "e3105d7a-a208-4ec0-8289-c2fe9dbb86f9"
      },
      "source": [
        "numpyFull = np.full( (4,5), \"Hi\")\n",
        "print(type(numpyFull))\n",
        "print(numpyFull)"
      ],
      "execution_count": 11,
      "outputs": [
        {
          "output_type": "stream",
          "name": "stdout",
          "text": [
            "<class 'numpy.ndarray'>\n",
            "[['Hi' 'Hi' 'Hi' 'Hi' 'Hi']\n",
            " ['Hi' 'Hi' 'Hi' 'Hi' 'Hi']\n",
            " ['Hi' 'Hi' 'Hi' 'Hi' 'Hi']\n",
            " ['Hi' 'Hi' 'Hi' 'Hi' 'Hi']]\n"
          ]
        }
      ]
    },
    {
      "cell_type": "code",
      "metadata": {
        "colab": {
          "base_uri": "https://localhost:8080/"
        },
        "id": "oxvDHhYInwGg",
        "outputId": "bc5f6d08-cb18-4d7b-f115-9d68dcbc06be"
      },
      "source": [
        "numpyArange = np.arange( 10, 100, 5)\n",
        "print(type(numpyArange))\n",
        "print(f\"Numpy arrange takes 3 numbers, the starting number, what to go up to, than what interval to use, so (10, 20, 5) would be [ 10 15], and 10, 100, and 5 would be \\n{numpyArange}.\")"
      ],
      "execution_count": 16,
      "outputs": [
        {
          "output_type": "stream",
          "name": "stdout",
          "text": [
            "<class 'numpy.ndarray'>\n",
            "Numpy arrange takes 3 numbers, the starting number, what to go up to, than what interval to use, so (10, 20, 5) would be [ 10 15], and 10, 100, and 5 would be \n",
            "[10 15 20 25 30 35 40 45 50 55 60 65 70 75 80 85 90 95].\n"
          ]
        }
      ]
    },
    {
      "cell_type": "code",
      "metadata": {
        "colab": {
          "base_uri": "https://localhost:8080/"
        },
        "id": "MxAugxV_ojnY",
        "outputId": "87a4f899-d106-403b-87f9-55478cebf642"
      },
      "source": [
        "numpyLinspace = np.linspace(0, 5/3, 6)\n",
        "print(f\"Numpy linspace has a type of {type(numpyLinspace)} and does this for 0, 5/3, and 6 \\n{numpyLinspace}\\nIt counts in thirds from 0 to 5/3 in a set amount of equal intervals, in this case 6.\")"
      ],
      "execution_count": 22,
      "outputs": [
        {
          "output_type": "stream",
          "name": "stdout",
          "text": [
            "Numpy linspace has a type of <class 'numpy.ndarray'> and does this for 0, 5/3, and 6 \n",
            "[0.         0.33333333 0.66666667 1.         1.33333333 1.66666667]\n",
            "It counts in thirds from 0 to 5/3 in a set amount of equal intervals, in this case 6.\n"
          ]
        }
      ]
    },
    {
      "cell_type": "code",
      "metadata": {
        "colab": {
          "base_uri": "https://localhost:8080/"
        },
        "id": "sAlfQNBCpHdI",
        "outputId": "575ddaef-d2a3-4c2e-c085-b07433e81e25"
      },
      "source": [
        "numpyRandom = np.random.rand(2,3)\n",
        "print(f\"Numpy random.rand has a type of {type(numpyRandom)} and does this for 2,3\\n {numpyRandom}\\n it takes (x,y), x is the number of arrays and 3 is how many items in each array.\")"
      ],
      "execution_count": 24,
      "outputs": [
        {
          "output_type": "stream",
          "name": "stdout",
          "text": [
            "Numpy random.rand has a type of <class 'numpy.ndarray'> and does this for 2,3\n",
            " [[0.79592882 0.68095655 0.51245855]\n",
            " [0.12521132 0.40848576 0.53237685]]\n"
          ]
        }
      ]
    },
    {
      "cell_type": "code",
      "metadata": {
        "colab": {
          "base_uri": "https://localhost:8080/"
        },
        "id": "V-9NmVkcpz0M",
        "outputId": "5275c902-e8d5-4294-e35c-60ef4202e9d3"
      },
      "source": [
        "numpyEmpty = np.empty((2,3))\n",
        "print(f\"The type of numpyEmpty is {type(numpyEmpty)} and it does this for ((2,3))\\n{numpyEmpty}\\n it  makes ((x,y)) x arrays with 3 items, each under 1.\")"
      ],
      "execution_count": 27,
      "outputs": [
        {
          "output_type": "stream",
          "name": "stdout",
          "text": [
            "The type of numpyEmpty is <class 'numpy.ndarray'> and it does this for ((2,3))\n",
            "[[0.79592882 0.68095655 0.51245855]\n",
            " [0.12521132 0.40848576 0.53237685]]\n",
            " it  makes ((x,y)) x arrays with 3 items, each under 1.\n"
          ]
        }
      ]
    },
    {
      "cell_type": "markdown",
      "metadata": {
        "id": "eqOElc1Tq1r0"
      },
      "source": [
        "Attributes of a numpy object\n",
        "\n",
        "1. Ndim\n",
        "2. Shape\n",
        "3. Size\n",
        "4. Dtype\n",
        "5. Itemsize\n",
        "6. Reshape"
      ]
    }
  ]
}